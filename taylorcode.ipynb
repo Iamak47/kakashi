{
 "cells": [
  {
   "cell_type": "code",
   "execution_count": 3,
   "id": "c76b43d1",
   "metadata": {},
   "outputs": [
    {
     "name": "stdout",
     "output_type": "stream",
     "text": [
      "54.5978829056501\n",
      "e^x = 2.7182818011463845\n"
     ]
    }
   ],
   "source": [
    "#  Python implementation of the approach\n",
    "# Recursive Function\n",
    "# global variables p and f\n",
    "p = 1.0\n",
    "f = 1.0\n",
    "def e(x, n):\n",
    "    global p, f\n",
    "    # Termination condition\n",
    "    if (n == 0):\n",
    "\n",
    "        return 1\n",
    "    # Recursive call\n",
    "\n",
    "    r = e(x, n - 1)\n",
    " \n",
    "    # Update the power of x\n",
    "\n",
    "    p = p * x\n",
    " \n",
    "    # Factorial\n",
    "\n",
    "    f = f * n\n",
    " \n",
    "\n",
    "    return (r + p / f)\n",
    " \n",
    "# Driver code\n",
    "x = 4\n",
    "\n",
    "n = 15\n",
    "\n",
    "print(e(x, n))\n",
    "\n",
    "\n",
    "\n",
    "#exponential using iteration\n",
    "def exponential(n, x):\n",
    " \n",
    "    # initialize sum of series\n",
    "    sum = 1.0\n",
    "    for i in range(n, 0, -1):\n",
    "        sum = 1 + x * sum / i\n",
    "    print (\"e^x =\", sum)\n",
    " \n",
    "n = 10\n",
    "x = 1.0\n",
    "exponential(n, x)"
   ]
  },
  {
   "cell_type": "code",
   "execution_count": null,
   "id": "0def300d",
   "metadata": {},
   "outputs": [],
   "source": []
  }
 ],
 "metadata": {
  "kernelspec": {
   "display_name": "Python 3 (ipykernel)",
   "language": "python",
   "name": "python3"
  },
  "language_info": {
   "codemirror_mode": {
    "name": "ipython",
    "version": 3
   },
   "file_extension": ".py",
   "mimetype": "text/x-python",
   "name": "python",
   "nbconvert_exporter": "python",
   "pygments_lexer": "ipython3",
   "version": "3.9.13"
  }
 },
 "nbformat": 4,
 "nbformat_minor": 5
}
